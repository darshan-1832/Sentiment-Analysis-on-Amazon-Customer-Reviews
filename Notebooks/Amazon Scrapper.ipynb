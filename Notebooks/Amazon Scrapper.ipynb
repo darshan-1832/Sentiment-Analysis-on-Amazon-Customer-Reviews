{
 "cells": [
  {
   "cell_type": "code",
   "execution_count": 39,
   "id": "58eab497-c9b1-4a2a-9ba2-152d40cdf4f1",
   "metadata": {},
   "outputs": [],
   "source": [
    "from selenium import webdriver\n",
    "from selenium.webdriver.common.by import By\n",
    "from selenium.webdriver.common.keys import Keys\n",
    "from selenium.webdriver.support.ui import WebDriverWait\n",
    "from selenium.webdriver.support import expected_conditions as EC\n",
    "from selenium.webdriver.chrome.service import Service\n",
    "from bs4 import BeautifulSoup\n",
    "import re\n",
    "import getpass\n",
    "import pandas as pd\n",
    "import time"
   ]
  },
  {
   "cell_type": "code",
   "execution_count": null,
   "id": "c8f7983a-b556-41de-8310-6d7c66b949ab",
   "metadata": {},
   "outputs": [],
   "source": [
    "# Setup Selenium WebDriver\n",
    "driver_path = r\"C:\\Users\\puvia\\.cache\\selenium\\chromedriver\\win64\\130.0.6723.116\\chromedriver.exe\"  # Replace with your WebDriver path"
   ]
  },
  {
   "cell_type": "code",
   "execution_count": 27,
   "id": "6a5927e9-a18a-4d21-b449-49688820dbaf",
   "metadata": {},
   "outputs": [],
   "source": [
    "\n",
    "# Function to login to Amazon\n",
    "def amazon_login(email, password):\n",
    "    driver.get(\"https://www.amazon.in/ap/signin?openid.pape.max_auth_age=900&openid.return_to=https%3A%2F%2Fwww.amazon.in%2Fgp%2Fyourstore%2Fhome%3Fpath%3D%252Fgp%252Fyourstore%252Fhome%26signIn%3D1%26useRedirectOnSuccess%3D1%26action%3Dsign-out%26ref_%3Dnav_AccountFlyout_signout&openid.assoc_handle=inflex&openid.mode=checkid_setup&openid.ns=http%3A%2F%2Fspecs.openid.net%2Fauth%2F2.0\")\n",
    "    WebDriverWait(driver, 10).until(EC.presence_of_element_located((By.ID, 'ap_email')))\n",
    "    \n",
    "    driver.find_element(By.ID, 'ap_email').send_keys(email)\n",
    "    driver.find_element(By.ID, 'continue').click()\n",
    "    WebDriverWait(driver, 10).until(EC.presence_of_element_located((By.ID, 'ap_password')))\n",
    "    \n",
    "    driver.find_element(By.ID, 'ap_password').send_keys(password)\n",
    "    driver.find_element(By.ID, 'signInSubmit').click()\n"
   ]
  },
  {
   "cell_type": "code",
   "execution_count": 35,
   "id": "a2480210-442a-41c3-9df9-f143a82a4c38",
   "metadata": {},
   "outputs": [],
   "source": [
    "\n",
    "# Function to navigate to product reviews\n",
    "def navigate_to_reviews(product_url):\n",
    "    driver.execute_script(\"window.scrollTo(0, document.body.scrollHeight);\")\n",
    "    WebDriverWait(driver, 10)\n",
    "    driver.get(product_url)\n",
    "    WebDriverWait(driver, 100).until(EC.element_to_be_clickable((By.CSS_SELECTOR, \"a[data-hook='see-all-reviews-link-foot']\"))\n",
    ").click()\n",
    "\n",
    "\n"
   ]
  },
  {
   "cell_type": "code",
   "execution_count": 49,
   "id": "8c64916a-e616-4886-af34-7e51aa309332",
   "metadata": {},
   "outputs": [],
   "source": [
    "# Function to scrape reviews\n",
    "def scrape_reviews():\n",
    "    reviews = []\n",
    "    while True:\n",
    "        soup = BeautifulSoup(driver.page_source, 'html.parser')\n",
    "        review_blocks = soup.find_all('div', {'data-hook': 'review'})\n",
    "        \n",
    "        for review in review_blocks:\n",
    "            try:\n",
    "                username = review.find('span', {'class': 'a-profile-name'}).get_text(strip=True)\n",
    "                review_text = review.find('span', {'data-hook': 'review-body'}).get_text(strip=True)\n",
    "                \n",
    "                # Extract review date and isolate the date part\n",
    "                full_review_date = review.find('span', {'data-hook': 'review-date'}).get_text(strip=True)\n",
    "                # Use a regular expression to capture only the date\n",
    "                date_match = re.search(r'\\b\\d{1,2} [A-Za-z]+ \\d{4}\\b', full_review_date)\n",
    "                review_date = date_match.group(0) if date_match else \"Unknown Date\"\n",
    "                \n",
    "                #extract rating and isolate it\n",
    "                full_rating_text = review.find('span', {'class': 'a-icon-alt'}).get_text(strip=True)\n",
    "                # Use a regular expression to capture only the rating\n",
    "                rate_match = re.search(r'(\\d+(\\.\\d+)?)', full_rating_text)\n",
    "                rating = rate_match.group(0) if rate_match else \"N/A\"\n",
    "                \n",
    "                reviews.append({'Username': username, 'Date': review_date, 'Rating': rating, 'Review': review_text})\n",
    "            except AttributeError:\n",
    "                continue\n",
    "        \n",
    "        # Navigate to the next page of reviews if available\n",
    "        try:\n",
    "            next_button = driver.find_element(By.CLASS_NAME, 'a-last')\n",
    "            if 'a-disabled' in next_button.get_attribute('class'):\n",
    "                break\n",
    "            next_button.click()\n",
    "            time.sleep(3)\n",
    "        except Exception:\n",
    "            break\n",
    "\n",
    "    return reviews\n",
    "\n"
   ]
  },
  {
   "cell_type": "markdown",
   "id": "93371a0e-0496-41fd-a138-c9b6b20c84da",
   "metadata": {},
   "source": [
    " "
   ]
  },
  {
   "cell_type": "markdown",
   "id": "d67a8020-f44c-4313-bf43-2aed2275865c",
   "metadata": {},
   "source": [
    " "
   ]
  },
  {
   "cell_type": "markdown",
   "id": "6806e4d7-e43d-42e7-9bdb-ff9189c56719",
   "metadata": {},
   "source": [
    " "
   ]
  },
  {
   "cell_type": "markdown",
   "id": "0833dd5e-9231-4f74-894c-1f81dae7c0b6",
   "metadata": {},
   "source": [
    " "
   ]
  },
  {
   "cell_type": "markdown",
   "id": "c35d288b-03b4-4e84-853f-b209a757ec65",
   "metadata": {},
   "source": [
    " "
   ]
  },
  {
   "cell_type": "markdown",
   "id": "7faeff71-0f68-4f35-9125-1b42c21fd851",
   "metadata": {},
   "source": [
    "**-----------------------------------------------------------------------------------AMAZON SCRAPPER-----------------------------------------------------------------------------------**"
   ]
  },
  {
   "cell_type": "code",
   "execution_count": 56,
   "id": "3c413939-a5e4-4bff-bd1a-49fe53a6d429",
   "metadata": {},
   "outputs": [],
   "source": [
    "#start the driver\n",
    "driver = webdriver.Chrome(service=Service(driver_path))\n",
    "driver.maximize_window()"
   ]
  },
  {
   "cell_type": "code",
   "execution_count": 57,
   "id": "b1fa000d-3191-46a6-b32a-a28eaa4f8edd",
   "metadata": {},
   "outputs": [
    {
     "name": "stdin",
     "output_type": "stream",
     "text": [
      "Enter your username:  6383341344\n",
      "Enter your password:  ········\n",
      "Enter the Amazon product URL:  https://www.amazon.in/OnePlus-Super-Silver-128GB-Storage/dp/B0D5YCYS1G/ref=sr_1_4?crid=2WWJGR9UOWY8V&dib=eyJ2IjoiMSJ9.3bzUr-Fo8mAuZzivaSli3LZE7_uuaro9yNEOcAV4PohublICuVT2P73dB3Ppyknv0WoKm8D3-sfHNq81ZJL5rFh6jhqW2ZTLwdfIR39k_dKdU_0-SUTivTF-kPTCombdUs1fh6_mPR5N1T6IAQdKm8yIpVGebK1OTc6NusyHpIN4soRdlnDls0kX94QNEpJAD0rZFz6lT0FublQt6MejgSYB1HdNej-0553Y5lvgBcg.jHrUHa0MxJH5QqM5iW22g-Bm_NsSPlCS_YACkw9DVTE&dib_tag=se&keywords=asus%2Brog%2Bphone&nsdOptOutParam=true&qid=1732723839&sprefix=asus%2Brog%2Bphone%2Caps%2C281&sr=8-4&th=1\n"
     ]
    },
    {
     "name": "stdout",
     "output_type": "stream",
     "text": [
      "Reviews saved to 'amazon_reviews.csv'\n"
     ]
    }
   ],
   "source": [
    "# Main program\n",
    "\n",
    "email = input(\"Enter your username: \")  \n",
    "password = getpass.getpass(\"Enter your password: \") \n",
    "product_url = input(\"Enter the Amazon product URL: \") \n",
    "\n",
    "try:\n",
    "    amazon_login(email, password)\n",
    "    navigate_to_reviews(product_url)\n",
    "    reviews_data = scrape_reviews()\n",
    "    \n",
    "    # Save data to CSV\n",
    "    df = pd.DataFrame(reviews_data)\n",
    "    df.to_csv('amazon_reviews.csv', index=False)\n",
    "    print(\"Reviews saved to 'amazon_reviews.csv'\")\n",
    "finally:\n",
    "    driver.quit()"
   ]
  }
 ],
 "metadata": {
  "kernelspec": {
   "display_name": "Python 3 (ipykernel)",
   "language": "python",
   "name": "python3"
  },
  "language_info": {
   "codemirror_mode": {
    "name": "ipython",
    "version": 3
   },
   "file_extension": ".py",
   "mimetype": "text/x-python",
   "name": "python",
   "nbconvert_exporter": "python",
   "pygments_lexer": "ipython3",
   "version": "3.11.7"
  }
 },
 "nbformat": 4,
 "nbformat_minor": 5
}
